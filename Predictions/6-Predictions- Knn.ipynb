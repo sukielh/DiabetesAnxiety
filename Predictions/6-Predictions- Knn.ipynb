{
 "cells": [
  {
   "cell_type": "code",
   "execution_count": 5,
   "id": "4fd89e25-27fe-4315-b598-3b4f3e65bf84",
   "metadata": {},
   "outputs": [],
   "source": [
    "import warnings\n",
    "warnings.filterwarnings('ignore')\n",
    "import pandas as pd\n",
    "import numpy as np\n",
    "import matplotlib.pyplot as plt\n",
    "import seaborn as sns\n",
    "%matplotlib inline\n",
    "import re\n",
    "import nltk\n",
    "from nltk.tokenize import sent_tokenize, word_tokenize, RegexpTokenizer\n",
    "from nltk.stem import WordNetLemmatizer\n",
    "from nltk.stem.porter import PorterStemmer\n",
    "from nltk.corpus import stopwords\n",
    "from nltk.sentiment.vader import SentimentIntensityAnalyzer\n",
    "from sklearn.model_selection import train_test_split, GridSearchCV, cross_val_score\n",
    "from sklearn.pipeline import Pipeline\n",
    "from sklearn.naive_bayes import MultinomialNB\n",
    "from sklearn.linear_model import LogisticRegression\n",
    "from sklearn.neighbors import KNeighborsClassifier\n",
    "from sklearn.metrics import confusion_matrix, plot_confusion_matrix\n",
    "\n",
    "# Import CountVectorizer and TFIDFVectorizer from feature_extraction.text.\n",
    "from sklearn.feature_extraction.text import CountVectorizer, TfidfVectorizer"
   ]
  },
  {
   "cell_type": "code",
   "execution_count": 6,
   "id": "20befd34-d1c4-4984-97fe-2b26f1b2f203",
   "metadata": {},
   "outputs": [],
   "source": [
    "dfac = pd.read_csv('./anx_comments.csv')\n",
    "dfas = pd.read_csv('./anx_submissions.csv')\n",
    "dfds = pd.read_csv('./dia_submissions.csv')\n",
    "dfdc = pd.read_csv('./dia_comments.csv')\n",
    "dfac = dfac.iloc[:500, :]\n",
    "dfas = dfas.iloc[:500, :]\n",
    "dfds = dfds.iloc[:500, :]\n",
    "dfdc = dfdc.iloc[:500, :]"
   ]
  },
  {
   "cell_type": "code",
   "execution_count": 7,
   "id": "0ec7b5c5-a29a-47c9-a7d1-0b9e8a8dc6b9",
   "metadata": {},
   "outputs": [
    {
     "data": {
      "text/plain": [
       "((500, 73), (500, 50), (500, 85), (500, 50))"
      ]
     },
     "execution_count": 7,
     "metadata": {},
     "output_type": "execute_result"
    }
   ],
   "source": [
    "dfas.shape, dfac.shape, dfds.shape, dfdc.shape"
   ]
  },
  {
   "cell_type": "markdown",
   "id": "4176e652-e260-4d1f-b799-cc29390d862f",
   "metadata": {},
   "source": [
    "## Dfas(Anxiety Submissions), dfac(Anxiety Comments)"
   ]
  },
  {
   "cell_type": "code",
   "execution_count": 8,
   "id": "4252dd42-c7ed-4075-aa84-b2f354ceb26d",
   "metadata": {},
   "outputs": [],
   "source": [
    "# Combine title and selftext into a single column\n",
    "dfas['body'] = dfas['selftext'].astype(str)\n",
    "dfds['body'] = dfds['selftext'].astype(str)\n",
    "\n",
    "#Change 'Anxiety' for a binary to be predicted later\n",
    "dfas['subreddit'] = dfas['subreddit'].replace('Anxiety', 1)\n",
    "dfas['origin'] = 'submission'\n",
    "dfac['subreddit'] = dfac['subreddit'].replace('Anxiety', 1)\n",
    "dfac['origin'] = 'comment'\n",
    "#Change 'Anxiety' for a binary to be predicted later\n",
    "dfds['subreddit'] = dfds['subreddit'].replace('diabetes', 0)\n",
    "dfds['origin'] = 'submission'\n",
    "dfdc['subreddit'] = dfdc['subreddit'].replace('diabetes', 0)\n",
    "dfdc['origin'] = 'comment'"
   ]
  },
  {
   "cell_type": "code",
   "execution_count": 9,
   "id": "a1570a4e-5ac6-4835-8024-cc5463201243",
   "metadata": {},
   "outputs": [],
   "source": [
    "# Selecting only the necessary columns\n",
    "dfas = dfas[['author', 'origin', 'id', 'body',  'score', 'created_utc', 'subreddit']]\n",
    "dfac = dfac[['author','origin', 'id','body', 'score', 'created_utc', 'subreddit']]\n",
    "dfds = dfds[['author', 'origin', 'id', 'body',  'score', 'created_utc', 'subreddit']]\n",
    "dfdc = dfdc[['author','origin', 'id', 'body', 'score', 'created_utc', 'subreddit']]\n",
    "\n",
    "# Merge it into one dataframe\n",
    "df_anx = dfas.append(dfac)\n",
    "df_diab = dfds.append(dfdc)\n",
    "df = df_anx.append(df_diab, ignore_index=True)\n",
    "\n",
    "df['body'] = [str(x).replace('\\n\\n',' ') for x in df[\"body\"]]\n",
    "df['body'] = [str(x).replace('\\n',' ') for x in df[\"body\"]]\n",
    "df['body'] = [str(x).replace('&amp','') for x in df[\"body\"]]\n",
    "df['body'] = [str(x).replace(';#x200B;','') for x in df[\"body\"]]\n",
    "df['body'] = [str(x).replace('*','') for x in df[\"body\"]]\n",
    "df['body'] = [str(x).lower() for x in df[\"body\"]]\n",
    "\n",
    "# Making a date column from created utc\n",
    "df['datetime'] = pd.to_datetime(df['created_utc'], unit = 's').dt.date\n",
    "df['time'] = pd.to_datetime(df['created_utc'], unit = 's').dt.time\n",
    "\n",
    "df = df.dropna(how='any')\n",
    "df = df.drop_duplicates(subset=['body', 'subreddit'])"
   ]
  },
  {
   "cell_type": "code",
   "execution_count": 10,
   "id": "40041c03-dd32-4152-9a6e-0205b84811cb",
   "metadata": {},
   "outputs": [
    {
     "data": {
      "text/plain": [
       "0       tw mention of self harm         my anxiety has...\n",
       "1       specifically those first few months where the ...\n",
       "2        i have neighbour. it is not so loud, but time...\n",
       "3                                               [deleted]\n",
       "4       anxiety off balance feeling sensitivity to lig...\n",
       "                              ...                        \n",
       "1995                                     life water also.\n",
       "1996    the main thing that bothered me about auto mod...\n",
       "1997    i don't care if the correction is only 0.7 gim...\n",
       "1998    welcome to the club diabuddy! i don’t think ty...\n",
       "1999    welcome newbie. diabetes sucks, but it's not t...\n",
       "Name: body, Length: 1769, dtype: object"
      ]
     },
     "execution_count": 10,
     "metadata": {},
     "output_type": "execute_result"
    }
   ],
   "source": [
    "df['body']"
   ]
  },
  {
   "cell_type": "code",
   "execution_count": 11,
   "id": "0d1580fb-2227-417a-9aa0-8ea81382babe",
   "metadata": {},
   "outputs": [],
   "source": [
    "# Extending my list of stop words\n",
    "#stop_words = stopwords.words(\"english\")\n",
    "# new_stop_words = ['like', 'just', 'don', 've', 'know', 'time', 'really', \n",
    "#                 'want', 'people', 'going', 'think', 'make', 'day', \n",
    "#                 'https', 'com', 'much', 'something', 'would', 'go',\n",
    "#                'even', 'things', 'also', 'got']\n",
    "# stop_words.extend(new_stop_words)"
   ]
  },
  {
   "cell_type": "markdown",
   "id": "ad8bbf69-5605-4d8c-8e91-033b4e090106",
   "metadata": {},
   "source": [
    "### Instantiate and create new columns for tokenized words"
   ]
  },
  {
   "cell_type": "code",
   "execution_count": 12,
   "id": "356e0a55-ee7b-4234-a29c-9476ce8e90c2",
   "metadata": {},
   "outputs": [],
   "source": [
    "# sentence tokenizer\n",
    "df['sent_tokenized'] = df[\"body\"].apply(nltk.sent_tokenize)\n",
    "# Instantiate tokenizer.\n",
    "tokenizer = RegexpTokenizer('\\s+', gaps=True)\n",
    "# Run tokenizer.\n",
    "df['tokens'] = df[\"body\"].apply(tokenizer.tokenize)\n",
    "# Instantiate lemmatizer. \n",
    "lemmatizer = WordNetLemmatizer()\n",
    "# Lemmatize tokens.\n",
    "df['tokens_lem'] = [lemmatizer.lemmatize(str(i)) for i in df['tokens']]"
   ]
  },
  {
   "cell_type": "markdown",
   "id": "d0d1d88f-5ecb-4b62-bd2b-3fe18c2a2276",
   "metadata": {},
   "source": [
    "## Baseline is 53/46"
   ]
  },
  {
   "cell_type": "code",
   "execution_count": 13,
   "id": "2be5e2dd-57d1-4833-8605-3a8b3b3475db",
   "metadata": {},
   "outputs": [
    {
     "data": {
      "text/plain": [
       "1    0.533635\n",
       "0    0.466365\n",
       "Name: subreddit, dtype: float64"
      ]
     },
     "execution_count": 13,
     "metadata": {},
     "output_type": "execute_result"
    }
   ],
   "source": [
    "df['subreddit'].value_counts(normalize = True)"
   ]
  },
  {
   "cell_type": "markdown",
   "id": "24215ec1-056e-49f2-9e80-832a74b86153",
   "metadata": {},
   "source": [
    "## Pre-Processing\n",
    "Let's review some of the pre-processing steps for text data:\n",
    "\n",
    "* Remove special characters\n",
    "* Tokenizing\n",
    "* Lemmatizing/Stemming\n",
    "* Stop word removal"
   ]
  },
  {
   "cell_type": "code",
   "execution_count": 14,
   "id": "c4c375c3-67e0-4c52-ab75-e9c3d07c2417",
   "metadata": {},
   "outputs": [],
   "source": [
    "X = df['tokens_lem']\n",
    "y = df['subreddit']"
   ]
  },
  {
   "cell_type": "code",
   "execution_count": 15,
   "id": "b6e63f3f-0d23-4fc1-833c-eabe77548efd",
   "metadata": {},
   "outputs": [],
   "source": [
    "# Split the data into the training and testing sets.\n",
    "X_train, X_test, y_train, y_test = train_test_split(X, y, test_size=.33, random_state=42)"
   ]
  },
  {
   "cell_type": "code",
   "execution_count": 16,
   "id": "da6a58e1-53c1-4e9b-9dc3-b330fd7799cd",
   "metadata": {},
   "outputs": [
    {
     "name": "stdout",
     "output_type": "stream",
     "text": [
      "Length of Old Stop Words: 179\n",
      "Length of New Stop Words: 202\n"
     ]
    }
   ],
   "source": [
    "# Extending my list of stop words\n",
    "stop_words = stopwords.words(\"english\")\n",
    "print(f'Length of Old Stop Words: {len(stop_words)}')\n",
    "new_stop_words = ['like', 'just', 'don', 've', 'know', 'time', 'really', \n",
    "                'want', 'people', 'going', 'think', 'make', 'day', \n",
    "                'https', 'com', 'much', 'something', 'would', 'go',\n",
    "               'even', 'things', 'also', 'got']\n",
    "stop_words.extend(new_stop_words)\n",
    "print(f'Length of New Stop Words: {len(stop_words)}')"
   ]
  },
  {
   "cell_type": "markdown",
   "id": "ef5ebdcf-f100-4809-8db0-c185f6937bab",
   "metadata": {},
   "source": [
    "## KNeighbors"
   ]
  },
  {
   "cell_type": "code",
   "execution_count": 17,
   "id": "2b94936d-4e42-460d-bd4c-c97315cf28b4",
   "metadata": {},
   "outputs": [],
   "source": [
    "# Instantiate the transformer.\n",
    "tvec = TfidfVectorizer()\n",
    "knn = KNeighborsClassifier()"
   ]
  },
  {
   "cell_type": "code",
   "execution_count": 18,
   "id": "a19c19af-0efb-4063-bd75-502290f9b626",
   "metadata": {},
   "outputs": [],
   "source": [
    "pipe_tvec = Pipeline([\n",
    "    ('tvec', TfidfVectorizer(stop_words= stop_words)),\n",
    "    ('knn', KNeighborsClassifier())\n",
    "])"
   ]
  },
  {
   "cell_type": "code",
   "execution_count": 19,
   "id": "9e8089ce-a511-48c6-8150-bb260144b677",
   "metadata": {},
   "outputs": [],
   "source": [
    "# eucledian is default"
   ]
  },
  {
   "cell_type": "code",
   "execution_count": 24,
   "id": "f29b87e0-14ad-447d-94db-4a4a7380498f",
   "metadata": {},
   "outputs": [],
   "source": [
    "pipe_params = {\n",
    "    'tvec__max_features': [2000, 3000, 5000],\n",
    "    'tvec__stop_words': [None, 'english'],\n",
    "    'tvec__ngram_range': [(1,1), (1,2)],\n",
    "    'knn__n_neighbors':[7, 9]\n",
    "}"
   ]
  },
  {
   "cell_type": "code",
   "execution_count": 25,
   "id": "3d9d5f6c-bf8a-4b07-9eb5-eeed7e1780e7",
   "metadata": {},
   "outputs": [],
   "source": [
    "# Instantiate GridSearchCV.\n",
    "gs_tvec = GridSearchCV(\n",
    "    pipe_tvec,\n",
    "    param_grid = pipe_params,\n",
    "    cv = 5,\n",
    "    n_jobs = -1,\n",
    "    verbose=1\n",
    ")"
   ]
  },
  {
   "cell_type": "code",
   "execution_count": 26,
   "id": "86ecbe74-47ea-49ee-9bd1-eb5d87c6fed4",
   "metadata": {},
   "outputs": [
    {
     "name": "stdout",
     "output_type": "stream",
     "text": [
      "Fitting 5 folds for each of 24 candidates, totalling 120 fits\n"
     ]
    },
    {
     "data": {
      "text/plain": [
       "GridSearchCV(cv=5,\n",
       "             estimator=Pipeline(steps=[('tvec',\n",
       "                                        TfidfVectorizer(stop_words=['i', 'me',\n",
       "                                                                    'my',\n",
       "                                                                    'myself',\n",
       "                                                                    'we', 'our',\n",
       "                                                                    'ours',\n",
       "                                                                    'ourselves',\n",
       "                                                                    'you',\n",
       "                                                                    \"you're\",\n",
       "                                                                    \"you've\",\n",
       "                                                                    \"you'll\",\n",
       "                                                                    \"you'd\",\n",
       "                                                                    'your',\n",
       "                                                                    'yours',\n",
       "                                                                    'yourself',\n",
       "                                                                    'yourselves',\n",
       "                                                                    'he', 'him',\n",
       "                                                                    'his',\n",
       "                                                                    'himself',\n",
       "                                                                    'she',\n",
       "                                                                    \"she's\",\n",
       "                                                                    'her',\n",
       "                                                                    'hers',\n",
       "                                                                    'herself',\n",
       "                                                                    'it',\n",
       "                                                                    \"it's\",\n",
       "                                                                    'its',\n",
       "                                                                    'itself', ...])),\n",
       "                                       ('knn', KNeighborsClassifier())]),\n",
       "             n_jobs=-1,\n",
       "             param_grid={'knn__n_neighbors': [7, 9],\n",
       "                         'tvec__max_features': [2000, 3000, 5000],\n",
       "                         'tvec__ngram_range': [(1, 1), (1, 2)],\n",
       "                         'tvec__stop_words': [None, 'english']},\n",
       "             verbose=1)"
      ]
     },
     "execution_count": 26,
     "metadata": {},
     "output_type": "execute_result"
    }
   ],
   "source": [
    "# Fit GridSearch to training data.\n",
    "gs_tvec.fit(X_train, y_train)"
   ]
  },
  {
   "cell_type": "code",
   "execution_count": 30,
   "id": "f410b5f7-e1d5-4676-ae38-646662427eac",
   "metadata": {},
   "outputs": [
    {
     "data": {
      "text/plain": [
       "{'knn__n_neighbors': 9,\n",
       " 'tvec__max_features': 5000,\n",
       " 'tvec__ngram_range': (1, 1),\n",
       " 'tvec__stop_words': None}"
      ]
     },
     "execution_count": 30,
     "metadata": {},
     "output_type": "execute_result"
    }
   ],
   "source": [
    "# Best parameters\n",
    "gs_tvec.best_params_"
   ]
  },
  {
   "cell_type": "code",
   "execution_count": 31,
   "id": "46415454-ddf7-4c51-aa75-de3b2fce0054",
   "metadata": {},
   "outputs": [
    {
     "data": {
      "text/plain": [
       "0.8042194092827004"
      ]
     },
     "execution_count": 31,
     "metadata": {},
     "output_type": "execute_result"
    }
   ],
   "source": [
    "# Score model on training set.\n",
    "gs_tvec.score(X_train, y_train)"
   ]
  },
  {
   "cell_type": "code",
   "execution_count": 32,
   "id": "861af227-8f3b-4645-b0f6-8f064088dd3b",
   "metadata": {},
   "outputs": [
    {
     "data": {
      "text/plain": [
       "0.708904109589041"
      ]
     },
     "execution_count": 32,
     "metadata": {},
     "output_type": "execute_result"
    }
   ],
   "source": [
    "# Score model on testing set.\n",
    "gs_tvec.score(X_test, y_test)"
   ]
  },
  {
   "cell_type": "code",
   "execution_count": 33,
   "id": "e6cbbf52-3ca0-4cec-8fe7-edf3b4bd5d1d",
   "metadata": {},
   "outputs": [
    {
     "name": "stdout",
     "output_type": "stream",
     "text": [
      "specificity: 0.4411764705882353\n",
      "precision: 0.6591928251121076\n"
     ]
    }
   ],
   "source": [
    "# Get predictions\n",
    "preds_tvec = gs_tvec.predict(X_test)\n",
    "\n",
    "# Save confusion matrix values\n",
    "tn, fp, fn, tp = confusion_matrix(y_test, preds_tvec).ravel()\n",
    "\n",
    "# Calculate the specificity and precision\n",
    "spec = tn / (tn + fp)\n",
    "prec = tp / (tp + fp)\n",
    "\n",
    "print('specificity:', spec)\n",
    "print('precision:', prec)"
   ]
  },
  {
   "cell_type": "code",
   "execution_count": 34,
   "id": "f3210abd-5985-43ae-8b2b-2fad7f442404",
   "metadata": {},
   "outputs": [
    {
     "data": {
      "image/png": "[encoded data removed]",
      "text/plain": [
       "<Figure size 432x288 with 2 Axes>"
      ]
     },
     "metadata": {
      "needs_background": "light"
     },
     "output_type": "display_data"
    }
   ],
   "source": [
    "plot_confusion_matrix(gs_tvec, X_test, y_test, cmap='Blues');"
   ]
  },
  {
   "cell_type": "markdown",
   "id": "5d1de40b-2f42-4535-9621-1067d3d9d5b1",
   "metadata": {},
   "source": [
    "### Make changes on hyperparameters"
   ]
  },
  {
   "cell_type": "code",
   "execution_count": 36,
   "id": "cdb35b90-470e-4745-ae53-b4ed5742230c",
   "metadata": {},
   "outputs": [],
   "source": [
    "pipe_params = {\n",
    "    'tvec__max_features': [5000, 6000, 7000],\n",
    "    'tvec__stop_words': [None, 'english'],\n",
    "    'tvec__ngram_range': [(1,1), (1,2)],\n",
    "    'knn__n_neighbors':[10, 13]\n",
    "}"
   ]
  },
  {
   "cell_type": "code",
   "execution_count": 37,
   "id": "95092bd6-b9e8-4e27-b14f-21c1a1a13ce8",
   "metadata": {},
   "outputs": [],
   "source": [
    "# Instantiate GridSearchCV.\n",
    "gs_tvec = GridSearchCV(\n",
    "    pipe_tvec,\n",
    "    param_grid = pipe_params,\n",
    "    cv = 5,\n",
    "    n_jobs = -1,\n",
    "    verbose=1\n",
    ")"
   ]
  },
  {
   "cell_type": "code",
   "execution_count": 38,
   "id": "de4990bf-31ae-4323-a781-080fd8f3a9e6",
   "metadata": {},
   "outputs": [
    {
     "name": "stdout",
     "output_type": "stream",
     "text": [
      "Fitting 5 folds for each of 24 candidates, totalling 120 fits\n"
     ]
    },
    {
     "data": {
      "text/plain": [
       "GridSearchCV(cv=5,\n",
       "             estimator=Pipeline(steps=[('tvec',\n",
       "                                        TfidfVectorizer(stop_words=['i', 'me',\n",
       "                                                                    'my',\n",
       "                                                                    'myself',\n",
       "                                                                    'we', 'our',\n",
       "                                                                    'ours',\n",
       "                                                                    'ourselves',\n",
       "                                                                    'you',\n",
       "                                                                    \"you're\",\n",
       "                                                                    \"you've\",\n",
       "                                                                    \"you'll\",\n",
       "                                                                    \"you'd\",\n",
       "                                                                    'your',\n",
       "                                                                    'yours',\n",
       "                                                                    'yourself',\n",
       "                                                                    'yourselves',\n",
       "                                                                    'he', 'him',\n",
       "                                                                    'his',\n",
       "                                                                    'himself',\n",
       "                                                                    'she',\n",
       "                                                                    \"she's\",\n",
       "                                                                    'her',\n",
       "                                                                    'hers',\n",
       "                                                                    'herself',\n",
       "                                                                    'it',\n",
       "                                                                    \"it's\",\n",
       "                                                                    'its',\n",
       "                                                                    'itself', ...])),\n",
       "                                       ('knn', KNeighborsClassifier())]),\n",
       "             n_jobs=-1,\n",
       "             param_grid={'knn__n_neighbors': [10, 13],\n",
       "                         'tvec__max_features': [5000, 6000, 7000],\n",
       "                         'tvec__ngram_range': [(1, 1), (1, 2)],\n",
       "                         'tvec__stop_words': [None, 'english']},\n",
       "             verbose=1)"
      ]
     },
     "execution_count": 38,
     "metadata": {},
     "output_type": "execute_result"
    }
   ],
   "source": [
    "# Fit GridSearch to training data.\n",
    "gs_tvec.fit(X_train, y_train)"
   ]
  },
  {
   "cell_type": "code",
   "execution_count": 39,
   "id": "4912cc08-4ba4-4fed-9268-af059b557e88",
   "metadata": {},
   "outputs": [
    {
     "data": {
      "text/plain": [
       "{'knn__n_neighbors': 13,\n",
       " 'tvec__max_features': 7000,\n",
       " 'tvec__ngram_range': (1, 1),\n",
       " 'tvec__stop_words': 'english'}"
      ]
     },
     "execution_count": 39,
     "metadata": {},
     "output_type": "execute_result"
    }
   ],
   "source": [
    "# Best parameters\n",
    "gs_tvec.best_params_"
   ]
  },
  {
   "cell_type": "code",
   "execution_count": 40,
   "id": "5dcce90a-afea-467d-a4ef-92c9443a6da0",
   "metadata": {},
   "outputs": [
    {
     "data": {
      "text/plain": [
       "0.8725738396624473"
      ]
     },
     "execution_count": 40,
     "metadata": {},
     "output_type": "execute_result"
    }
   ],
   "source": [
    "# Score model on training set.\n",
    "gs_tvec.score(X_train, y_train)"
   ]
  },
  {
   "cell_type": "code",
   "execution_count": 41,
   "id": "fd230760-9b16-4374-b8ef-551423e67a8b",
   "metadata": {},
   "outputs": [
    {
     "data": {
      "text/plain": [
       "0.7551369863013698"
      ]
     },
     "execution_count": 41,
     "metadata": {},
     "output_type": "execute_result"
    }
   ],
   "source": [
    "# Score model on testing set.\n",
    "gs_tvec.score(X_test, y_test)"
   ]
  },
  {
   "cell_type": "code",
   "execution_count": 42,
   "id": "f863d81a-a4ac-41f6-b4ac-1000fa52209d",
   "metadata": {},
   "outputs": [
    {
     "name": "stdout",
     "output_type": "stream",
     "text": [
      "specificity: 0.5477941176470589\n",
      "precision: 0.7036144578313253\n"
     ]
    }
   ],
   "source": [
    "# Get predictions\n",
    "preds_tvec = gs_tvec.predict(X_test)\n",
    "\n",
    "# Save confusion matrix values\n",
    "tn, fp, fn, tp = confusion_matrix(y_test, preds_tvec).ravel()\n",
    "\n",
    "# Calculate the specificity and precision\n",
    "spec = tn / (tn + fp)\n",
    "prec = tp / (tp + fp)\n",
    "\n",
    "print('specificity:', spec)\n",
    "print('precision:', prec)"
   ]
  },
  {
   "cell_type": "code",
   "execution_count": 43,
   "id": "0e7cab55-4afe-4f38-8493-183fd0ab89c8",
   "metadata": {},
   "outputs": [
    {
     "data": {
      "image/png": "[encoded data removed]",
      "text/plain": [
       "<Figure size 432x288 with 2 Axes>"
      ]
     },
     "metadata": {
      "needs_background": "light"
     },
     "output_type": "display_data"
    }
   ],
   "source": [
    "plot_confusion_matrix(gs_tvec, X_test, y_test, cmap='Blues');"
   ]
  }
 ],
 "metadata": {
  "kernelspec": {
   "display_name": "Python [conda env:nlp]",
   "language": "python",
   "name": "conda-env-nlp-py"
  },
  "language_info": {
   "codemirror_mode": {
    "name": "ipython",
    "version": 3
   },
   "file_extension": ".py",
   "mimetype": "text/x-python",
   "name": "python",
   "nbconvert_exporter": "python",
   "pygments_lexer": "ipython3",
   "version": "3.8.11"
  }
 },
 "nbformat": 4,
 "nbformat_minor": 5
}
