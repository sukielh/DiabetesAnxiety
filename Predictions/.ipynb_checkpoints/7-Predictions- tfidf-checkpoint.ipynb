{
 "cells": [
  {
   "cell_type": "code",
   "execution_count": 1,
   "id": "4fd89e25-27fe-4315-b598-3b4f3e65bf84",
   "metadata": {},
   "outputs": [],
   "source": [
    "import warnings\n",
    "warnings.filterwarnings('ignore')\n",
    "import pandas as pd\n",
    "import numpy as np\n",
    "import matplotlib.pyplot as plt\n",
    "import seaborn as sns\n",
    "%matplotlib inline\n",
    "import re\n",
    "import nltk\n",
    "from nltk.tokenize import sent_tokenize, word_tokenize, RegexpTokenizer\n",
    "from nltk.stem import WordNetLemmatizer\n",
    "from nltk.stem.porter import PorterStemmer\n",
    "from nltk.corpus import stopwords\n",
    "from nltk.sentiment.vader import SentimentIntensityAnalyzer\n",
    "from sklearn.model_selection import train_test_split, GridSearchCV, cross_val_score\n",
    "from sklearn.pipeline import Pipeline\n",
    "from sklearn.naive_bayes import MultinomialNB\n",
    "from sklearn.linear_model import LogisticRegression\n",
    "from sklearn.ensemble import RandomForestClassifier\n",
    "from sklearn.metrics import confusion_matrix, plot_confusion_matrix\n",
    "\n",
    "# Import CountVectorizer and TFIDFVectorizer from feature_extraction.text.\n",
    "from sklearn.feature_extraction.text import CountVectorizer, TfidfVectorizer"
   ]
  },
  {
   "cell_type": "code",
   "execution_count": 2,
   "id": "20befd34-d1c4-4984-97fe-2b26f1b2f203",
   "metadata": {},
   "outputs": [],
   "source": [
    "dfac = pd.read_csv('./anx_comments.csv')\n",
    "dfas = pd.read_csv('./anx_submissions.csv')\n",
    "dfds = pd.read_csv('./dia_submissions.csv')\n",
    "dfdc = pd.read_csv('./dia_comments.csv')"
   ]
  },
  {
   "cell_type": "code",
   "execution_count": 3,
   "id": "0ec7b5c5-a29a-47c9-a7d1-0b9e8a8dc6b9",
   "metadata": {},
   "outputs": [
    {
     "data": {
      "text/plain": [
       "((10000, 73), (10000, 50), (10000, 85), (10000, 50))"
      ]
     },
     "execution_count": 3,
     "metadata": {},
     "output_type": "execute_result"
    }
   ],
   "source": [
    "dfas.shape, dfac.shape, dfds.shape, dfdc.shape"
   ]
  },
  {
   "cell_type": "markdown",
   "id": "4176e652-e260-4d1f-b799-cc29390d862f",
   "metadata": {},
   "source": [
    "## dfas(Anxiety Submissions), dfac(Anxiety Comments)"
   ]
  },
  {
   "cell_type": "code",
   "execution_count": 4,
   "id": "4252dd42-c7ed-4075-aa84-b2f354ceb26d",
   "metadata": {},
   "outputs": [],
   "source": [
    "# Combine title and selftext into a single column\n",
    "dfas['body'] = dfas['selftext'].astype(str)\n",
    "dfds['body'] = dfds['selftext'].astype(str)\n",
    "\n",
    "#Change 'Anxiety' for a binary to be predicted later\n",
    "dfas['subreddit'] = dfas['subreddit'].replace('Anxiety', 1)\n",
    "dfas['origin'] = 'submission'\n",
    "dfac['subreddit'] = dfac['subreddit'].replace('Anxiety', 1)\n",
    "dfac['origin'] = 'comment'\n",
    "#Change 'Anxiety' for a binary to be predicted later\n",
    "dfds['subreddit'] = dfds['subreddit'].replace('diabetes', 0)\n",
    "dfds['origin'] = 'submission'\n",
    "dfdc['subreddit'] = dfdc['subreddit'].replace('diabetes', 0)\n",
    "dfdc['origin'] = 'comment'"
   ]
  },
  {
   "cell_type": "code",
   "execution_count": 5,
   "id": "a1570a4e-5ac6-4835-8024-cc5463201243",
   "metadata": {},
   "outputs": [],
   "source": [
    "# Selecting only the necessary columns\n",
    "dfas = dfas[['author', 'origin', 'id', 'body',  'score', 'created_utc', 'subreddit']]\n",
    "dfac = dfac[['author','origin', 'id','body', 'score', 'created_utc', 'subreddit']]\n",
    "dfds = dfds[['author', 'origin', 'id', 'body',  'score', 'created_utc', 'subreddit']]\n",
    "dfdc = dfdc[['author','origin', 'id', 'body', 'score', 'created_utc', 'subreddit']]\n",
    "\n",
    "# Merge it into one dataframe\n",
    "df_anx = dfas.append(dfac)\n",
    "df_diab = dfds.append(dfdc)\n",
    "df = df_anx.append(df_diab, ignore_index=True)\n",
    "\n",
    "df['body'] = [str(x).replace('\\n\\n',' ') for x in df[\"body\"]]\n",
    "df['body'] = [str(x).replace('\\n',' ') for x in df[\"body\"]]\n",
    "df['body'] = [str(x).replace('&amp','') for x in df[\"body\"]]\n",
    "df['body'] = [str(x).replace(';#x200B;','') for x in df[\"body\"]]\n",
    "df['body'] = [str(x).replace('*','') for x in df[\"body\"]]\n",
    "df['body'] = [str(x).lower() for x in df[\"body\"]]\n",
    "\n",
    "# Making a date column from created utc\n",
    "df['datetime'] = pd.to_datetime(df['created_utc'], unit = 's').dt.date\n",
    "df['time'] = pd.to_datetime(df['created_utc'], unit = 's').dt.time\n",
    "\n",
    "df = df.dropna(how='any')\n",
    "df = df.drop_duplicates(subset=['body', 'subreddit'])"
   ]
  },
  {
   "cell_type": "code",
   "execution_count": 6,
   "id": "40041c03-dd32-4152-9a6e-0205b84811cb",
   "metadata": {},
   "outputs": [
    {
     "data": {
      "text/plain": [
       "0        tw mention of self harm         my anxiety has...\n",
       "1        specifically those first few months where the ...\n",
       "2         i have neighbour. it is not so loud, but time...\n",
       "3                                                [deleted]\n",
       "4        anxiety off balance feeling sensitivity to lig...\n",
       "                               ...                        \n",
       "39993    yep, i had a time before i was diagnosed where...\n",
       "39996    mine was a thirst that could never be satisfie...\n",
       "39997    what country are you in? i haven’t seen it aro...\n",
       "39998                                      hypothetically.\n",
       "39999    my poor naive grandparents who i was staying w...\n",
       "Name: body, Length: 35289, dtype: object"
      ]
     },
     "execution_count": 6,
     "metadata": {},
     "output_type": "execute_result"
    }
   ],
   "source": [
    "df['body']"
   ]
  },
  {
   "cell_type": "code",
   "execution_count": 7,
   "id": "0d1580fb-2227-417a-9aa0-8ea81382babe",
   "metadata": {},
   "outputs": [],
   "source": [
    "# Extending my list of stop words\n",
    "#stop_words = stopwords.words(\"english\")\n",
    "# new_stop_words = ['like', 'just', 'don', 've', 'know', 'time', 'really', \n",
    "#                 'want', 'people', 'going', 'think', 'make', 'day', \n",
    "#                 'https', 'com', 'much', 'something', 'would', 'go',\n",
    "#                'even', 'things', 'also', 'got']\n",
    "# stop_words.extend(new_stop_words)"
   ]
  },
  {
   "cell_type": "markdown",
   "id": "ad8bbf69-5605-4d8c-8e91-033b4e090106",
   "metadata": {},
   "source": [
    "### Instantiate and create new columns for tokenized words"
   ]
  },
  {
   "cell_type": "code",
   "execution_count": 8,
   "id": "356e0a55-ee7b-4234-a29c-9476ce8e90c2",
   "metadata": {},
   "outputs": [],
   "source": [
    "# sentence tokenizer\n",
    "df['sent_tokenized'] = df[\"body\"].apply(nltk.sent_tokenize)\n",
    "# Instantiate tokenizer.\n",
    "tokenizer = RegexpTokenizer('\\s+', gaps=True)\n",
    "# Run tokenizer.\n",
    "df['tokens'] = df[\"body\"].apply(tokenizer.tokenize)\n",
    "# Instantiate lemmatizer. \n",
    "lemmatizer = WordNetLemmatizer()\n",
    "# Lemmatize tokens.\n",
    "df['tokens_lem'] = [lemmatizer.lemmatize(str(i)) for i in df['tokens']]"
   ]
  },
  {
   "cell_type": "markdown",
   "id": "d0d1d88f-5ecb-4b62-bd2b-3fe18c2a2276",
   "metadata": {},
   "source": [
    "## Baseline is 53/46"
   ]
  },
  {
   "cell_type": "code",
   "execution_count": 9,
   "id": "2be5e2dd-57d1-4833-8605-3a8b3b3475db",
   "metadata": {},
   "outputs": [
    {
     "data": {
      "text/plain": [
       "1    0.531412\n",
       "0    0.468588\n",
       "Name: subreddit, dtype: float64"
      ]
     },
     "execution_count": 9,
     "metadata": {},
     "output_type": "execute_result"
    }
   ],
   "source": [
    "df['subreddit'].value_counts(normalize = True)"
   ]
  },
  {
   "cell_type": "markdown",
   "id": "24215ec1-056e-49f2-9e80-832a74b86153",
   "metadata": {},
   "source": [
    "## Pre-Processing\n",
    "Let's review some of the pre-processing steps for text data:\n",
    "\n",
    "* Remove special characters\n",
    "* Tokenizing\n",
    "* Lemmatizing/Stemming\n",
    "* Stop word removal"
   ]
  },
  {
   "cell_type": "code",
   "execution_count": 10,
   "id": "c4c375c3-67e0-4c52-ab75-e9c3d07c2417",
   "metadata": {},
   "outputs": [],
   "source": [
    "X = df['tokens_lem']\n",
    "y = df['subreddit']"
   ]
  },
  {
   "cell_type": "code",
   "execution_count": 11,
   "id": "b6e63f3f-0d23-4fc1-833c-eabe77548efd",
   "metadata": {},
   "outputs": [],
   "source": [
    "# Split the data into the training and testing sets.\n",
    "X_train, X_test, y_train, y_test = train_test_split(X, y, test_size=.33, random_state=42)"
   ]
  },
  {
   "cell_type": "code",
   "execution_count": 12,
   "id": "da6a58e1-53c1-4e9b-9dc3-b330fd7799cd",
   "metadata": {},
   "outputs": [
    {
     "name": "stdout",
     "output_type": "stream",
     "text": [
      "179\n",
      "Length of New Stop Words: 202\n"
     ]
    }
   ],
   "source": [
    "# Extending my list of stop words\n",
    "stop_words = stopwords.words(\"english\")\n",
    "print(len(stop_words))\n",
    "new_stop_words = ['like', 'just', 'don', 've', 'know', 'time', 'really', \n",
    "                'want', 'people', 'going', 'think', 'make', 'day', \n",
    "                'https', 'com', 'much', 'something', 'would', 'go',\n",
    "               'even', 'things', 'also', 'got']\n",
    "stop_words.extend(new_stop_words)\n",
    "print(f'Length of New Stop Words: {len(stop_words)}')"
   ]
  },
  {
   "cell_type": "markdown",
   "id": "c0f9b7a4-b0e5-41dc-84e7-95ba055b7c2c",
   "metadata": {},
   "source": [
    "## Count Vectorizer & Multinomial Naive Bayes"
   ]
  },
  {
   "cell_type": "code",
   "execution_count": 13,
   "id": "2d1999dd-df28-48e5-bc86-00ee0079e67d",
   "metadata": {},
   "outputs": [],
   "source": [
    "pipe = Pipeline([\n",
    "    ('cvec', CountVectorizer(stop_words = stop_words)),\n",
    "    ('nb', MultinomialNB())    \n",
    "])"
   ]
  },
  {
   "cell_type": "code",
   "execution_count": 14,
   "id": "ad7cd56c-7fac-4234-946c-a0923ae760ab",
   "metadata": {},
   "outputs": [],
   "source": [
    "pipe_params = {\n",
    "    'cvec__max_features': [2000, 3000, 4000, 5000],\n",
    "    'cvec__min_df': [2, 3],\n",
    "    'cvec__max_df': [0.9, 0.95],\n",
    "    'cvec__ngram_range': [(1,1), (1,2)]}"
   ]
  },
  {
   "cell_type": "code",
   "execution_count": 15,
   "id": "f3b35fee-d28b-4829-adf0-4e5a3b2691c5",
   "metadata": {},
   "outputs": [],
   "source": [
    "# Instantiate GridSearchCV.\n",
    "gs = GridSearchCV(\n",
    "    # what object are we optimizing?\n",
    "    estimator = pipe,\n",
    "    # what parameters values are we searching?\n",
    "    param_grid = pipe_params,\n",
    "    # 5-fold cross-validation.\n",
    "    cv = 5,\n",
    "    n_jobs = -1\n",
    ")"
   ]
  },
  {
   "cell_type": "code",
   "execution_count": 16,
   "id": "0c6cdfb6-0748-4ba0-b0fb-fbec993bdad2",
   "metadata": {},
   "outputs": [
    {
     "data": {
      "text/plain": [
       "GridSearchCV(cv=5,\n",
       "             estimator=Pipeline(steps=[('cvec',\n",
       "                                        CountVectorizer(stop_words=['i', 'me',\n",
       "                                                                    'my',\n",
       "                                                                    'myself',\n",
       "                                                                    'we', 'our',\n",
       "                                                                    'ours',\n",
       "                                                                    'ourselves',\n",
       "                                                                    'you',\n",
       "                                                                    \"you're\",\n",
       "                                                                    \"you've\",\n",
       "                                                                    \"you'll\",\n",
       "                                                                    \"you'd\",\n",
       "                                                                    'your',\n",
       "                                                                    'yours',\n",
       "                                                                    'yourself',\n",
       "                                                                    'yourselves',\n",
       "                                                                    'he', 'him',\n",
       "                                                                    'his',\n",
       "                                                                    'himself',\n",
       "                                                                    'she',\n",
       "                                                                    \"she's\",\n",
       "                                                                    'her',\n",
       "                                                                    'hers',\n",
       "                                                                    'herself',\n",
       "                                                                    'it',\n",
       "                                                                    \"it's\",\n",
       "                                                                    'its',\n",
       "                                                                    'itself', ...])),\n",
       "                                       ('nb', MultinomialNB())]),\n",
       "             n_jobs=-1,\n",
       "             param_grid={'cvec__max_df': [0.9, 0.95],\n",
       "                         'cvec__max_features': [2000, 3000, 4000, 5000],\n",
       "                         'cvec__min_df': [2, 3],\n",
       "                         'cvec__ngram_range': [(1, 1), (1, 2)]})"
      ]
     },
     "execution_count": 16,
     "metadata": {},
     "output_type": "execute_result"
    }
   ],
   "source": [
    "# Fit GridSearch to training data.\n",
    "gs.fit(X_train, y_train)"
   ]
  },
  {
   "cell_type": "code",
   "execution_count": 17,
   "id": "a718c43b-ec40-4d73-a0e2-a387ccda8033",
   "metadata": {},
   "outputs": [
    {
     "data": {
      "text/plain": [
       "0.8981514230336703"
      ]
     },
     "execution_count": 17,
     "metadata": {},
     "output_type": "execute_result"
    }
   ],
   "source": [
    "# What's the best score?\n",
    "gs.best_score_"
   ]
  },
  {
   "cell_type": "code",
   "execution_count": 18,
   "id": "d4124634-dd73-4fef-9cfb-97fbc142cb2d",
   "metadata": {},
   "outputs": [
    {
     "data": {
      "text/plain": [
       "{'cvec__max_df': 0.9,\n",
       " 'cvec__max_features': 5000,\n",
       " 'cvec__min_df': 3,\n",
       " 'cvec__ngram_range': (1, 1)}"
      ]
     },
     "execution_count": 18,
     "metadata": {},
     "output_type": "execute_result"
    }
   ],
   "source": [
    "# What are the best hyperparameters?\n",
    "gs.best_params_"
   ]
  },
  {
   "cell_type": "code",
   "execution_count": 19,
   "id": "91614323-d310-4dbc-b225-78b3b7dc7706",
   "metadata": {},
   "outputs": [
    {
     "name": "stdout",
     "output_type": "stream",
     "text": [
      "Train score: 0.9033963541005795\n",
      "Test score: 0.8960157994161085\n"
     ]
    }
   ],
   "source": [
    "# Score model on training set.\n",
    "print(f'Train score: {gs.score(X_train, y_train)}')\n",
    "# Score model on testing set.\n",
    "print(f'Test score: {gs.score(X_test, y_test)}')"
   ]
  },
  {
   "cell_type": "code",
   "execution_count": 20,
   "id": "0a858c19-ae58-465f-8755-552a0a93fad4",
   "metadata": {},
   "outputs": [
    {
     "name": "stdout",
     "output_type": "stream",
     "text": [
      "Test score: 0.8960157994161085\n"
     ]
    }
   ],
   "source": [
    "# Score model on testing set.\n",
    "print(f'Test score: {gs.score(X_test, y_test)}')"
   ]
  },
  {
   "cell_type": "code",
   "execution_count": 21,
   "id": "5d27598a-50ea-4fc2-a59e-201a78baa9c1",
   "metadata": {},
   "outputs": [],
   "source": [
    "# Get predictions\n",
    "preds = gs.predict(X_test)\n",
    "\n",
    "# Save confusion matrix values\n",
    "tn, fp, fn, tp = confusion_matrix(y_test, preds).ravel()"
   ]
  },
  {
   "cell_type": "code",
   "execution_count": 22,
   "id": "49756a68-ccca-45e8-8f37-003843817e01",
   "metadata": {},
   "outputs": [
    {
     "data": {
      "image/png": "[encoded data removed]",
      "text/plain": [
       "<Figure size 432x288 with 2 Axes>"
      ]
     },
     "metadata": {
      "needs_background": "light"
     },
     "output_type": "display_data"
    }
   ],
   "source": [
    "# View confusion matrix\n",
    "plot_confusion_matrix(gs, X_test, y_test, cmap='Blues', values_format='d');"
   ]
  },
  {
   "cell_type": "code",
   "execution_count": 23,
   "id": "00bef548-d709-418e-8467-785e739b46b6",
   "metadata": {},
   "outputs": [
    {
     "name": "stdout",
     "output_type": "stream",
     "text": [
      "0.849640685461581\n"
     ]
    }
   ],
   "source": [
    "# Calculate the specificity (TRUE NEG RATE)\n",
    "spec = tn/(tn + fp)\n",
    "print(spec)"
   ]
  },
  {
   "cell_type": "code",
   "execution_count": 24,
   "id": "7c2da04f-f32b-40e2-997f-1a43aaa3575d",
   "metadata": {},
   "outputs": [
    {
     "name": "stdout",
     "output_type": "stream",
     "text": [
      "0.8771084337349397\n"
     ]
    }
   ],
   "source": [
    "# calculate precision\n",
    "prec = tp / (tp + fp)\n",
    "print(prec)"
   ]
  },
  {
   "cell_type": "markdown",
   "id": "ef5ebdcf-f100-4809-8db0-c185f6937bab",
   "metadata": {},
   "source": [
    "## TfidfVectorizer & Multinomial Naive Bayes"
   ]
  },
  {
   "cell_type": "code",
   "execution_count": 25,
   "id": "2b94936d-4e42-460d-bd4c-c97315cf28b4",
   "metadata": {},
   "outputs": [],
   "source": [
    "# Instantiate the transformer.\n",
    "tvec = TfidfVectorizer()"
   ]
  },
  {
   "cell_type": "code",
   "execution_count": 26,
   "id": "a19c19af-0efb-4063-bd75-502290f9b626",
   "metadata": {},
   "outputs": [],
   "source": [
    "pipe_tvec = Pipeline([\n",
    "    ('tvec', TfidfVectorizer(stop_words= stop_words)),\n",
    "    ('nb', MultinomialNB())\n",
    "])"
   ]
  },
  {
   "cell_type": "code",
   "execution_count": 27,
   "id": "f29b87e0-14ad-447d-94db-4a4a7380498f",
   "metadata": {},
   "outputs": [],
   "source": [
    "pipe_params = {\n",
    "    'tvec__max_features': [2000, 3000, 4000, 5000],\n",
    "    'tvec__stop_words': [None, 'english'],\n",
    "    'tvec__ngram_range': [(1,1), (1,2)]\n",
    "}"
   ]
  },
  {
   "cell_type": "code",
   "execution_count": 28,
   "id": "3d9d5f6c-bf8a-4b07-9eb5-eeed7e1780e7",
   "metadata": {},
   "outputs": [],
   "source": [
    "# Instantiate GridSearchCV.\n",
    "gs_tvec = GridSearchCV(\n",
    "    pipe_tvec,\n",
    "    param_grid = pipe_params,\n",
    "    cv = 5,\n",
    "    n_jobs = -1\n",
    ")"
   ]
  },
  {
   "cell_type": "code",
   "execution_count": 29,
   "id": "86ecbe74-47ea-49ee-9bd1-eb5d87c6fed4",
   "metadata": {},
   "outputs": [
    {
     "data": {
      "text/plain": [
       "GridSearchCV(cv=5,\n",
       "             estimator=Pipeline(steps=[('tvec',\n",
       "                                        TfidfVectorizer(stop_words=['i', 'me',\n",
       "                                                                    'my',\n",
       "                                                                    'myself',\n",
       "                                                                    'we', 'our',\n",
       "                                                                    'ours',\n",
       "                                                                    'ourselves',\n",
       "                                                                    'you',\n",
       "                                                                    \"you're\",\n",
       "                                                                    \"you've\",\n",
       "                                                                    \"you'll\",\n",
       "                                                                    \"you'd\",\n",
       "                                                                    'your',\n",
       "                                                                    'yours',\n",
       "                                                                    'yourself',\n",
       "                                                                    'yourselves',\n",
       "                                                                    'he', 'him',\n",
       "                                                                    'his',\n",
       "                                                                    'himself',\n",
       "                                                                    'she',\n",
       "                                                                    \"she's\",\n",
       "                                                                    'her',\n",
       "                                                                    'hers',\n",
       "                                                                    'herself',\n",
       "                                                                    'it',\n",
       "                                                                    \"it's\",\n",
       "                                                                    'its',\n",
       "                                                                    'itself', ...])),\n",
       "                                       ('nb', MultinomialNB())]),\n",
       "             n_jobs=-1,\n",
       "             param_grid={'tvec__max_features': [2000, 3000, 4000, 5000],\n",
       "                         'tvec__ngram_range': [(1, 1), (1, 2)],\n",
       "                         'tvec__stop_words': [None, 'english']})"
      ]
     },
     "execution_count": 29,
     "metadata": {},
     "output_type": "execute_result"
    }
   ],
   "source": [
    "# Fit GridSearch to training data.\n",
    "gs_tvec.fit(X_train, y_train)"
   ]
  },
  {
   "cell_type": "code",
   "execution_count": 30,
   "id": "f410b5f7-e1d5-4676-ae38-646662427eac",
   "metadata": {},
   "outputs": [
    {
     "data": {
      "text/plain": [
       "{'tvec__max_features': 5000,\n",
       " 'tvec__ngram_range': (1, 1),\n",
       " 'tvec__stop_words': 'english'}"
      ]
     },
     "execution_count": 30,
     "metadata": {},
     "output_type": "execute_result"
    }
   ],
   "source": [
    "# Best parameters\n",
    "gs_tvec.best_params_"
   ]
  },
  {
   "cell_type": "code",
   "execution_count": 31,
   "id": "46415454-ddf7-4c51-aa75-de3b2fce0054",
   "metadata": {},
   "outputs": [
    {
     "name": "stdout",
     "output_type": "stream",
     "text": [
      "Train score: 0.9068646110899632\n",
      "Test score: 0.892151811780869\n"
     ]
    }
   ],
   "source": [
    "# Score model on training set.\n",
    "print(f'Train score: {gs_tvec.score(X_train, y_train)}')\n",
    "# Score model on testing set.\n",
    "print(f'Test score: {gs_tvec.score(X_test, y_test)}')"
   ]
  },
  {
   "cell_type": "code",
   "execution_count": 32,
   "id": "861af227-8f3b-4645-b0f6-8f064088dd3b",
   "metadata": {},
   "outputs": [
    {
     "data": {
      "text/plain": [
       "0.892151811780869"
      ]
     },
     "execution_count": 32,
     "metadata": {},
     "output_type": "execute_result"
    }
   ],
   "source": [
    "# Score model on testing set.\n",
    "gs_tvec.score(X_test, y_test)"
   ]
  },
  {
   "cell_type": "code",
   "execution_count": 34,
   "id": "f3210abd-5985-43ae-8b2b-2fad7f442404",
   "metadata": {},
   "outputs": [
    {
     "data": {
      "image/png": "[encoded data removed]",
      "text/plain": [
       "<Figure size 432x288 with 2 Axes>"
      ]
     },
     "metadata": {
      "needs_background": "light"
     },
     "output_type": "display_data"
    }
   ],
   "source": [
    "plot_confusion_matrix(gs_tvec, X_test, y_test, cmap='Blues');"
   ]
  }
 ],
 "metadata": {
  "kernelspec": {
   "display_name": "Python [conda env:nlp]",
   "language": "python",
   "name": "conda-env-nlp-py"
  },
  "language_info": {
   "codemirror_mode": {
    "name": "ipython",
    "version": 3
   },
   "file_extension": ".py",
   "mimetype": "text/x-python",
   "name": "python",
   "nbconvert_exporter": "python",
   "pygments_lexer": "ipython3",
   "version": "3.8.11"
  }
 },
 "nbformat": 4,
 "nbformat_minor": 5
}
