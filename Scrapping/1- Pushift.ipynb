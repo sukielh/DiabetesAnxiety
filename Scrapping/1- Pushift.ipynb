{
 "cells": [
  {
   "cell_type": "code",
   "execution_count": 3,
   "id": "289e2b0e-949d-46f3-9ebb-74aeeb22002b",
   "metadata": {},
   "outputs": [],
   "source": [
    "import requests\n",
    "import pandas as pd\n",
    "import time\n",
    "import json\n",
    "import csv\n",
    "import datetime"
   ]
  },
  {
   "cell_type": "code",
   "execution_count": 4,
   "id": "1dc44b60-9c73-497b-b63d-e0738528873b",
   "metadata": {},
   "outputs": [],
   "source": [
    "url = 'https://api.pushshift.io/reddit/search/submission'"
   ]
  },
  {
   "cell_type": "code",
   "execution_count": 5,
   "id": "633497fb-65db-41ed-b3da-3338a2088e85",
   "metadata": {},
   "outputs": [],
   "source": [
    "#Subreddit to query\n",
    "sub = 'Anxiety'\n",
    "#before and after dates\n",
    "before = \"1585747929\" #April 1st 2020"
   ]
  },
  {
   "cell_type": "code",
   "execution_count": 6,
   "id": "646010da-6112-4ce2-bcfd-73f4317e70f5",
   "metadata": {},
   "outputs": [],
   "source": [
    "params = {\n",
    "    'subreddit': 'Anxiety',\n",
    "    'size': 500,\n",
    "    'before': before\n",
    "}"
   ]
  },
  {
   "cell_type": "code",
   "execution_count": 7,
   "id": "38449b97-2d47-4d7a-8fe4-aa5824f08dbf",
   "metadata": {},
   "outputs": [
    {
     "data": {
      "text/plain": [
       "200"
      ]
     },
     "execution_count": 7,
     "metadata": {},
     "output_type": "execute_result"
    }
   ],
   "source": [
    "res = requests.get(url, params)\n",
    "res.status_code"
   ]
  },
  {
   "cell_type": "code",
   "execution_count": 8,
   "id": "7e6957ac-461b-4e46-90c4-0b405ec1428c",
   "metadata": {},
   "outputs": [],
   "source": [
    "data = res.json()['data']"
   ]
  },
  {
   "cell_type": "code",
   "execution_count": 7,
   "id": "441314a7-7ef3-4392-b870-3519974d519e",
   "metadata": {
    "tags": []
   },
   "outputs": [
    {
     "data": {
      "text/plain": [
       "dict_keys(['all_awardings', 'allow_live_comments', 'author', 'author_flair_css_class', 'author_flair_richtext', 'author_flair_text', 'author_flair_type', 'author_fullname', 'author_patreon_flair', 'author_premium', 'awarders', 'can_mod_post', 'contest_mode', 'created_utc', 'domain', 'full_link', 'gildings', 'id', 'is_crosspostable', 'is_meta', 'is_original_content', 'is_reddit_media_domain', 'is_robot_indexable', 'is_self', 'is_video', 'link_flair_background_color', 'link_flair_richtext', 'link_flair_text_color', 'link_flair_type', 'locked', 'media_only', 'no_follow', 'num_comments', 'num_crossposts', 'over_18', 'parent_whitelist_status', 'permalink', 'pinned', 'pwls', 'retrieved_on', 'score', 'selftext', 'send_replies', 'spoiler', 'stickied', 'subreddit', 'subreddit_id', 'subreddit_subscribers', 'subreddit_type', 'thumbnail', 'title', 'total_awards_received', 'url', 'whitelist_status', 'wls'])"
      ]
     },
     "execution_count": 7,
     "metadata": {},
     "output_type": "execute_result"
    }
   ],
   "source": [
    "data[0].keys()"
   ]
  },
  {
   "cell_type": "code",
   "execution_count": 11,
   "id": "ce36d635-8e61-4457-9af8-0a3d173f655b",
   "metadata": {},
   "outputs": [],
   "source": [
    "def getPushshiftData(before, sub):\n",
    "    url = 'https://api.pushshift.io/reddit/search/submission'\n",
    "    params = {\n",
    "    'subreddit': sub,\n",
    "    'size': 500,\n",
    "    'before': before\n",
    "    }\n",
    "    res = requests.get(url, params)\n",
    "    posts = res.json()['data']\n",
    "    df = pd.DataFrame(posts)[['subreddit', 'title', 'selftext', 'created_utc']]\n",
    "    print(f'Last created utc: ', data[-1]['created_utc'])\n",
    "    return df.to_csv('df_test.csv')"
   ]
  },
  {
   "cell_type": "code",
   "execution_count": 12,
   "id": "73a5fe92-abcb-4f7a-9999-23009447fe67",
   "metadata": {
    "tags": []
   },
   "outputs": [
    {
     "name": "stdout",
     "output_type": "stream",
     "text": [
      "Last created utc:  1585702712\n"
     ]
    }
   ],
   "source": [
    "getPushshiftData(before, sub)"
   ]
  },
  {
   "cell_type": "code",
   "execution_count": 1,
   "id": "4c554935-6a8d-421f-b768-6b5ca5909c0c",
   "metadata": {},
   "outputs": [],
   "source": [
    "def getAllPushshiftData(before, sub):\n",
    "    url = 'https://api.pushshift.io/reddit/search/submission'\n",
    "    params = {\n",
    "    'subreddit': sub,\n",
    "    'size': 500,\n",
    "    'before': before\n",
    "    }\n",
    "    res = requests.get(url, params)\n",
    "    posts = res.json()['data']\n",
    "    \n",
    "    df = pd.DataFrame(posts)[['subreddit', 'title', 'selftext', 'created_utc']]\n",
    "    \n",
    "    # Run until all posts have been gathered\n",
    "    run_flag = True\n",
    "    while run_flag == True:\n",
    "        new_time = df['created_utc'].tail(1)\n",
    "        params = {\n",
    "            'subreddit': sub,\n",
    "            'size': 500,\n",
    "            'before': new_time\n",
    "            }\n",
    "        getPushshiftData(new_time, sub)\n",
    "        res = requests.get(url, params)\n",
    "        posts = res.json()['data']\n",
    "        df_appending = pd.DataFrame(posts)[['subreddit', 'title', 'selftext', 'created_utc']]\n",
    "        df = pd.concat([df, df_appending])\n",
    "        print(new_time)\n",
    "        if df.shape[0] >= 3000:\n",
    "            run_flag = False\n",
    "        \n",
    "    return df\n",
    "    "
   ]
  },
  {
   "cell_type": "code",
   "execution_count": 14,
   "id": "2d246ae6-e1ff-4447-b33f-63827e2c967f",
   "metadata": {
    "tags": []
   },
   "outputs": [
    {
     "name": "stdout",
     "output_type": "stream",
     "text": [
      "Last created utc:  1585702712\n",
      "99    1631116500\n",
      "Name: created_utc, dtype: int64\n",
      "Last created utc:  1585702712\n",
      "99    1631078799\n",
      "Name: created_utc, dtype: int64\n",
      "Last created utc:  1585702712\n",
      "99    1631055441\n",
      "Name: created_utc, dtype: int64\n",
      "Last created utc:  1585702712\n",
      "99    1631030296\n",
      "Name: created_utc, dtype: int64\n",
      "Last created utc:  1585702712\n",
      "99    1630995774\n",
      "Name: created_utc, dtype: int64\n",
      "Last created utc:  1585702712\n",
      "99    1630970605\n",
      "Name: created_utc, dtype: int64\n",
      "Last created utc:  1585702712\n",
      "99    1630944841\n",
      "Name: created_utc, dtype: int64\n",
      "Last created utc:  1585702712\n",
      "99    1630906033\n",
      "Name: created_utc, dtype: int64\n",
      "Last created utc:  1585702712\n",
      "99    1630877661\n",
      "Name: created_utc, dtype: int64\n",
      "Last created utc:  1585702712\n",
      "99    1630846174\n",
      "Name: created_utc, dtype: int64\n",
      "Last created utc:  1585702712\n",
      "99    1630804127\n",
      "Name: created_utc, dtype: int64\n",
      "Last created utc:  1585702712\n",
      "99    1630776063\n",
      "Name: created_utc, dtype: int64\n",
      "Last created utc:  1585702712\n",
      "99    1630732929\n",
      "Name: created_utc, dtype: int64\n",
      "Last created utc:  1585702712\n",
      "99    1630704577\n",
      "Name: created_utc, dtype: int64\n",
      "Last created utc:  1585702712\n",
      "99    1630676842\n",
      "Name: created_utc, dtype: int64\n",
      "Last created utc:  1585702712\n",
      "99    1630632903\n",
      "Name: created_utc, dtype: int64\n",
      "Last created utc:  1585702712\n",
      "99    1630602904\n",
      "Name: created_utc, dtype: int64\n",
      "Last created utc:  1585702712\n",
      "99    1630567616\n",
      "Name: created_utc, dtype: int64\n",
      "Last created utc:  1585702712\n",
      "99    1630537955\n",
      "Name: created_utc, dtype: int64\n"
     ]
    },
    {
     "data": {
      "text/html": [
       "<div>\n",
       "<style scoped>\n",
       "    .dataframe tbody tr th:only-of-type {\n",
       "        vertical-align: middle;\n",
       "    }\n",
       "\n",
       "    .dataframe tbody tr th {\n",
       "        vertical-align: top;\n",
       "    }\n",
       "\n",
       "    .dataframe thead th {\n",
       "        text-align: right;\n",
       "    }\n",
       "</style>\n",
       "<table border=\"1\" class=\"dataframe\">\n",
       "  <thead>\n",
       "    <tr style=\"text-align: right;\">\n",
       "      <th></th>\n",
       "      <th>subreddit</th>\n",
       "      <th>title</th>\n",
       "      <th>selftext</th>\n",
       "      <th>created_utc</th>\n",
       "    </tr>\n",
       "  </thead>\n",
       "  <tbody>\n",
       "    <tr>\n",
       "      <th>0</th>\n",
       "      <td>Anxiety</td>\n",
       "      <td>Idk, the dentist ruins my week twice year and ...</td>\n",
       "      <td>Every 6 months i go to the dentist and im para...</td>\n",
       "      <td>1631139951</td>\n",
       "    </tr>\n",
       "    <tr>\n",
       "      <th>1</th>\n",
       "      <td>Anxiety</td>\n",
       "      <td>I did catfish someone and I regret it</td>\n",
       "      <td>Well.. it started long ago when I started play...</td>\n",
       "      <td>1631139394</td>\n",
       "    </tr>\n",
       "    <tr>\n",
       "      <th>2</th>\n",
       "      <td>Anxiety</td>\n",
       "      <td>Really desperately need support right now! I w...</td>\n",
       "      <td>Please tell me someone else has experienced th...</td>\n",
       "      <td>1631139072</td>\n",
       "    </tr>\n",
       "    <tr>\n",
       "      <th>3</th>\n",
       "      <td>Anxiety</td>\n",
       "      <td>Talking with the voices in my head. (Pseudohal...</td>\n",
       "      <td>It’s only been a day since I started talking t...</td>\n",
       "      <td>1631139056</td>\n",
       "    </tr>\n",
       "    <tr>\n",
       "      <th>4</th>\n",
       "      <td>Anxiety</td>\n",
       "      <td>Does coffee punish others like it punishes me?</td>\n",
       "      <td>Here's the deal, Coffee tastes great and makes...</td>\n",
       "      <td>1631138710</td>\n",
       "    </tr>\n",
       "    <tr>\n",
       "      <th>...</th>\n",
       "      <td>...</td>\n",
       "      <td>...</td>\n",
       "      <td>...</td>\n",
       "      <td>...</td>\n",
       "    </tr>\n",
       "    <tr>\n",
       "      <th>95</th>\n",
       "      <td>Anxiety</td>\n",
       "      <td>Is it anxiety or adhd?</td>\n",
       "      <td>I feel “frozen” when I’m trying to speed clean...</td>\n",
       "      <td>1630515656</td>\n",
       "    </tr>\n",
       "    <tr>\n",
       "      <th>96</th>\n",
       "      <td>Anxiety</td>\n",
       "      <td>How do u manage anxiety/panic attack out in pu...</td>\n",
       "      <td>I've actually never thought about it, how othe...</td>\n",
       "      <td>1630515647</td>\n",
       "    </tr>\n",
       "    <tr>\n",
       "      <th>97</th>\n",
       "      <td>Anxiety</td>\n",
       "      <td>Should I Keep This Job? Can’t Tell if I’m in t...</td>\n",
       "      <td>I work in marketing, and the specific industry...</td>\n",
       "      <td>1630515645</td>\n",
       "    </tr>\n",
       "    <tr>\n",
       "      <th>98</th>\n",
       "      <td>Anxiety</td>\n",
       "      <td>Tips for getting rid of palpitations</td>\n",
       "      <td>Hi does anyone know any natural remedies to ge...</td>\n",
       "      <td>1630515643</td>\n",
       "    </tr>\n",
       "    <tr>\n",
       "      <th>99</th>\n",
       "      <td>Anxiety</td>\n",
       "      <td>Worrying is bad for my relationship</td>\n",
       "      <td>\\n\\nMy first relationship started 3 months ag...</td>\n",
       "      <td>1630515632</td>\n",
       "    </tr>\n",
       "  </tbody>\n",
       "</table>\n",
       "<p>2000 rows × 4 columns</p>\n",
       "</div>"
      ],
      "text/plain": [
       "   subreddit                                              title  \\\n",
       "0    Anxiety  Idk, the dentist ruins my week twice year and ...   \n",
       "1    Anxiety              I did catfish someone and I regret it   \n",
       "2    Anxiety  Really desperately need support right now! I w...   \n",
       "3    Anxiety  Talking with the voices in my head. (Pseudohal...   \n",
       "4    Anxiety     Does coffee punish others like it punishes me?   \n",
       "..       ...                                                ...   \n",
       "95   Anxiety                             Is it anxiety or adhd?   \n",
       "96   Anxiety  How do u manage anxiety/panic attack out in pu...   \n",
       "97   Anxiety  Should I Keep This Job? Can’t Tell if I’m in t...   \n",
       "98   Anxiety               Tips for getting rid of palpitations   \n",
       "99   Anxiety                Worrying is bad for my relationship   \n",
       "\n",
       "                                             selftext  created_utc  \n",
       "0   Every 6 months i go to the dentist and im para...   1631139951  \n",
       "1   Well.. it started long ago when I started play...   1631139394  \n",
       "2   Please tell me someone else has experienced th...   1631139072  \n",
       "3   It’s only been a day since I started talking t...   1631139056  \n",
       "4   Here's the deal, Coffee tastes great and makes...   1631138710  \n",
       "..                                                ...          ...  \n",
       "95  I feel “frozen” when I’m trying to speed clean...   1630515656  \n",
       "96  I've actually never thought about it, how othe...   1630515647  \n",
       "97  I work in marketing, and the specific industry...   1630515645  \n",
       "98  Hi does anyone know any natural remedies to ge...   1630515643  \n",
       "99   \\n\\nMy first relationship started 3 months ag...   1630515632  \n",
       "\n",
       "[2000 rows x 4 columns]"
      ]
     },
     "execution_count": 14,
     "metadata": {},
     "output_type": "execute_result"
    }
   ],
   "source": [
    "df_1 = getAllPushshiftData(1631139979, 'Anxiety')"
   ]
  },
  {
   "cell_type": "code",
   "execution_count": 59,
   "id": "06cbc5e5-e4d7-4a92-87d1-21215ac26806",
   "metadata": {},
   "outputs": [
    {
     "name": "stdout",
     "output_type": "stream",
     "text": [
      "Last created utc:  1585702712\n",
      "99    1630962398\n",
      "Name: created_utc, dtype: int64\n",
      "Last created utc:  1585702712\n",
      "99    1630776363\n",
      "Name: created_utc, dtype: int64\n",
      "Last created utc:  1585702712\n",
      "99    1630612539\n",
      "Name: created_utc, dtype: int64\n",
      "Last created utc:  1585702712\n",
      "99    1630413554\n",
      "Name: created_utc, dtype: int64\n",
      "Last created utc:  1585702712\n",
      "99    1630217309\n",
      "Name: created_utc, dtype: int64\n",
      "Last created utc:  1585702712\n",
      "99    1630034320\n",
      "Name: created_utc, dtype: int64\n",
      "Last created utc:  1585702712\n",
      "99    1629896263\n",
      "Name: created_utc, dtype: int64\n",
      "Last created utc:  1585702712\n",
      "99    1629719684\n",
      "Name: created_utc, dtype: int64\n",
      "Last created utc:  1585702712\n",
      "99    1629519643\n",
      "Name: created_utc, dtype: int64\n",
      "Last created utc:  1585702712\n",
      "99    1629316447\n",
      "Name: created_utc, dtype: int64\n",
      "Last created utc:  1585702712\n",
      "99    1629086076\n",
      "Name: created_utc, dtype: int64\n",
      "Last created utc:  1585702712\n",
      "99    1628896020\n",
      "Name: created_utc, dtype: int64\n",
      "Last created utc:  1585702712\n",
      "99    1628686041\n",
      "Name: created_utc, dtype: int64\n",
      "Last created utc:  1585702712\n",
      "99    1628506071\n",
      "Name: created_utc, dtype: int64\n",
      "Last created utc:  1585702712\n",
      "99    1628264296\n",
      "Name: created_utc, dtype: int64\n",
      "Last created utc:  1585702712\n",
      "99    1628084913\n",
      "Name: created_utc, dtype: int64\n",
      "Last created utc:  1585702712\n",
      "99    1627915087\n",
      "Name: created_utc, dtype: int64\n",
      "Last created utc:  1585702712\n",
      "99    1627686614\n",
      "Name: created_utc, dtype: int64\n",
      "Last created utc:  1585702712\n",
      "99    1627499118\n",
      "Name: created_utc, dtype: int64\n"
     ]
    }
   ],
   "source": [
    "# If you are grabbing from a second round rename your old csv.\n",
    "getAllPushshiftData(1631139979, 'diabetes')"
   ]
  }
 ],
 "metadata": {
  "kernelspec": {
   "display_name": "Python [conda env:nlp]",
   "language": "python",
   "name": "conda-env-nlp-py"
  },
  "language_info": {
   "codemirror_mode": {
    "name": "ipython",
    "version": 3
   },
   "file_extension": ".py",
   "mimetype": "text/x-python",
   "name": "python",
   "nbconvert_exporter": "python",
   "pygments_lexer": "ipython3",
   "version": "3.8.11"
  }
 },
 "nbformat": 4,
 "nbformat_minor": 5
}
