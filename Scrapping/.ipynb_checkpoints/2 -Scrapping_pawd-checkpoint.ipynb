{
 "cells": [
  {
   "cell_type": "code",
   "execution_count": 2,
   "id": "f918e1d3-b576-4cd3-b26d-90cdf8dee35f",
   "metadata": {},
   "outputs": [
    {
     "name": "stdout",
     "output_type": "stream",
     "text": [
      "Collecting pmaw\n",
      "  Using cached pmaw-1.1.0-py3-none-any.whl (18 kB)\n",
      "Requirement already satisfied: pandas in /Users/suelemlee/opt/anaconda3/envs/nlp/lib/python3.8/site-packages (1.3.2)\n",
      "Requirement already satisfied: requests in /Users/suelemlee/opt/anaconda3/envs/nlp/lib/python3.8/site-packages (from pmaw) (2.26.0)\n",
      "Requirement already satisfied: python-dateutil>=2.7.3 in /Users/suelemlee/opt/anaconda3/envs/nlp/lib/python3.8/site-packages (from pandas) (2.8.2)\n",
      "Requirement already satisfied: numpy>=1.17.3 in /Users/suelemlee/opt/anaconda3/envs/nlp/lib/python3.8/site-packages (from pandas) (1.20.3)\n",
      "Requirement already satisfied: pytz>=2017.3 in /Users/suelemlee/opt/anaconda3/envs/nlp/lib/python3.8/site-packages (from pandas) (2021.1)\n",
      "Requirement already satisfied: six>=1.5 in /Users/suelemlee/opt/anaconda3/envs/nlp/lib/python3.8/site-packages (from python-dateutil>=2.7.3->pandas) (1.16.0)\n",
      "Requirement already satisfied: charset-normalizer~=2.0.0 in /Users/suelemlee/opt/anaconda3/envs/nlp/lib/python3.8/site-packages (from requests->pmaw) (2.0.4)\n",
      "Requirement already satisfied: idna<4,>=2.5 in /Users/suelemlee/opt/anaconda3/envs/nlp/lib/python3.8/site-packages (from requests->pmaw) (3.2)\n",
      "Requirement already satisfied: urllib3<1.27,>=1.21.1 in /Users/suelemlee/opt/anaconda3/envs/nlp/lib/python3.8/site-packages (from requests->pmaw) (1.26.6)\n",
      "Requirement already satisfied: certifi>=2017.4.17 in /Users/suelemlee/opt/anaconda3/envs/nlp/lib/python3.8/site-packages (from requests->pmaw) (2021.5.30)\n",
      "Installing collected packages: pmaw\n",
      "Successfully installed pmaw-1.1.0\n",
      "Note: you may need to restart the kernel to use updated packages.\n"
     ]
    }
   ],
   "source": [
    "pip install pmaw pandas"
   ]
  },
  {
   "cell_type": "code",
   "execution_count": 2,
   "id": "5d9e49ef-8afc-4f0d-bf74-0cd13079f208",
   "metadata": {},
   "outputs": [],
   "source": [
    "import requests\n",
    "import pandas as pd\n",
    "import time\n",
    "from pmaw import PushshiftAPI\n",
    "import datetime as dt"
   ]
  },
  {
   "cell_type": "code",
   "execution_count": 19,
   "id": "787c56fe-1aff-42ad-86ee-b99d905b33e1",
   "metadata": {},
   "outputs": [],
   "source": [
    "api = PushshiftAPI()\n",
    "subreddit=\"Anxiety\"\n",
    "limit=3000"
   ]
  },
  {
   "cell_type": "code",
   "execution_count": 20,
   "id": "a542fade-adc1-4886-8556-ef38964cc30c",
   "metadata": {},
   "outputs": [
    {
     "name": "stderr",
     "output_type": "stream",
     "text": [
      "Not all PushShift shards are active. Query results may be incomplete.\n"
     ]
    },
    {
     "name": "stdout",
     "output_type": "stream",
     "text": [
      "Total:: Success Rate: 100.00% - Requests: 30 - Batches: 3 - Items Remaining: 0\n"
     ]
    }
   ],
   "source": [
    "submissions = api.search_submissions(subreddit=subreddit, limit=limit)"
   ]
  },
  {
   "cell_type": "code",
   "execution_count": 21,
   "id": "a1788331-2c8e-4853-98b2-945b3d47f409",
   "metadata": {},
   "outputs": [
    {
     "name": "stdout",
     "output_type": "stream",
     "text": [
      "Retrieved 3000 comments from Pushshift\n"
     ]
    }
   ],
   "source": [
    "print(f'Retrieved {len(submissions)} comments from Pushshift')"
   ]
  },
  {
   "cell_type": "code",
   "execution_count": 22,
   "id": "fa02b532-31bc-46dc-9989-ce90892bf7fa",
   "metadata": {},
   "outputs": [],
   "source": [
    "submissions_df = pd.DataFrame(submissions)"
   ]
  },
  {
   "cell_type": "code",
   "execution_count": 23,
   "id": "42128f6d-fba8-4be1-84fb-514418a78f57",
   "metadata": {},
   "outputs": [
    {
     "data": {
      "text/html": [
       "<div>\n",
       "<style scoped>\n",
       "    .dataframe tbody tr th:only-of-type {\n",
       "        vertical-align: middle;\n",
       "    }\n",
       "\n",
       "    .dataframe tbody tr th {\n",
       "        vertical-align: top;\n",
       "    }\n",
       "\n",
       "    .dataframe thead th {\n",
       "        text-align: right;\n",
       "    }\n",
       "</style>\n",
       "<table border=\"1\" class=\"dataframe\">\n",
       "  <thead>\n",
       "    <tr style=\"text-align: right;\">\n",
       "      <th></th>\n",
       "      <th>all_awardings</th>\n",
       "      <th>allow_live_comments</th>\n",
       "      <th>author</th>\n",
       "      <th>author_flair_css_class</th>\n",
       "      <th>author_flair_richtext</th>\n",
       "      <th>author_flair_text</th>\n",
       "      <th>author_flair_type</th>\n",
       "      <th>author_fullname</th>\n",
       "      <th>author_patreon_flair</th>\n",
       "      <th>author_premium</th>\n",
       "      <th>...</th>\n",
       "      <th>author_flair_text_color</th>\n",
       "      <th>author_flair_background_color</th>\n",
       "      <th>post_hint</th>\n",
       "      <th>preview</th>\n",
       "      <th>edited</th>\n",
       "      <th>author_cakeday</th>\n",
       "      <th>is_created_from_ads_ui</th>\n",
       "      <th>author_is_blocked</th>\n",
       "      <th>distinguished</th>\n",
       "      <th>banned_by</th>\n",
       "    </tr>\n",
       "  </thead>\n",
       "  <tbody>\n",
       "    <tr>\n",
       "      <th>0</th>\n",
       "      <td>[]</td>\n",
       "      <td>False</td>\n",
       "      <td>sparks38671</td>\n",
       "      <td>None</td>\n",
       "      <td>[]</td>\n",
       "      <td>None</td>\n",
       "      <td>text</td>\n",
       "      <td>t2_2179ge21</td>\n",
       "      <td>False</td>\n",
       "      <td>False</td>\n",
       "      <td>...</td>\n",
       "      <td>NaN</td>\n",
       "      <td>NaN</td>\n",
       "      <td>NaN</td>\n",
       "      <td>NaN</td>\n",
       "      <td>NaN</td>\n",
       "      <td>NaN</td>\n",
       "      <td>NaN</td>\n",
       "      <td>NaN</td>\n",
       "      <td>NaN</td>\n",
       "      <td>NaN</td>\n",
       "    </tr>\n",
       "    <tr>\n",
       "      <th>1</th>\n",
       "      <td>[]</td>\n",
       "      <td>False</td>\n",
       "      <td>thatsajojosrefrence</td>\n",
       "      <td>None</td>\n",
       "      <td>[]</td>\n",
       "      <td>None</td>\n",
       "      <td>text</td>\n",
       "      <td>t2_921okk4t</td>\n",
       "      <td>False</td>\n",
       "      <td>False</td>\n",
       "      <td>...</td>\n",
       "      <td>NaN</td>\n",
       "      <td>NaN</td>\n",
       "      <td>NaN</td>\n",
       "      <td>NaN</td>\n",
       "      <td>NaN</td>\n",
       "      <td>NaN</td>\n",
       "      <td>NaN</td>\n",
       "      <td>NaN</td>\n",
       "      <td>NaN</td>\n",
       "      <td>NaN</td>\n",
       "    </tr>\n",
       "    <tr>\n",
       "      <th>2</th>\n",
       "      <td>[]</td>\n",
       "      <td>False</td>\n",
       "      <td>showgo</td>\n",
       "      <td>None</td>\n",
       "      <td>[]</td>\n",
       "      <td>None</td>\n",
       "      <td>text</td>\n",
       "      <td>t2_11wj8z</td>\n",
       "      <td>False</td>\n",
       "      <td>False</td>\n",
       "      <td>...</td>\n",
       "      <td>NaN</td>\n",
       "      <td>NaN</td>\n",
       "      <td>NaN</td>\n",
       "      <td>NaN</td>\n",
       "      <td>NaN</td>\n",
       "      <td>NaN</td>\n",
       "      <td>NaN</td>\n",
       "      <td>NaN</td>\n",
       "      <td>NaN</td>\n",
       "      <td>NaN</td>\n",
       "    </tr>\n",
       "    <tr>\n",
       "      <th>3</th>\n",
       "      <td>[]</td>\n",
       "      <td>False</td>\n",
       "      <td>mkop9</td>\n",
       "      <td>None</td>\n",
       "      <td>[]</td>\n",
       "      <td>None</td>\n",
       "      <td>text</td>\n",
       "      <td>t2_5630xo64</td>\n",
       "      <td>False</td>\n",
       "      <td>False</td>\n",
       "      <td>...</td>\n",
       "      <td>NaN</td>\n",
       "      <td>NaN</td>\n",
       "      <td>NaN</td>\n",
       "      <td>NaN</td>\n",
       "      <td>NaN</td>\n",
       "      <td>NaN</td>\n",
       "      <td>NaN</td>\n",
       "      <td>NaN</td>\n",
       "      <td>NaN</td>\n",
       "      <td>NaN</td>\n",
       "    </tr>\n",
       "    <tr>\n",
       "      <th>4</th>\n",
       "      <td>[]</td>\n",
       "      <td>False</td>\n",
       "      <td>Yaerika</td>\n",
       "      <td>None</td>\n",
       "      <td>[]</td>\n",
       "      <td>None</td>\n",
       "      <td>text</td>\n",
       "      <td>t2_8xykkyse</td>\n",
       "      <td>False</td>\n",
       "      <td>False</td>\n",
       "      <td>...</td>\n",
       "      <td>NaN</td>\n",
       "      <td>NaN</td>\n",
       "      <td>NaN</td>\n",
       "      <td>NaN</td>\n",
       "      <td>NaN</td>\n",
       "      <td>NaN</td>\n",
       "      <td>NaN</td>\n",
       "      <td>NaN</td>\n",
       "      <td>NaN</td>\n",
       "      <td>NaN</td>\n",
       "    </tr>\n",
       "  </tbody>\n",
       "</table>\n",
       "<p>5 rows × 72 columns</p>\n",
       "</div>"
      ],
      "text/plain": [
       "  all_awardings  allow_live_comments               author  \\\n",
       "0            []                False          sparks38671   \n",
       "1            []                False  thatsajojosrefrence   \n",
       "2            []                False               showgo   \n",
       "3            []                False                mkop9   \n",
       "4            []                False              Yaerika   \n",
       "\n",
       "  author_flair_css_class author_flair_richtext author_flair_text  \\\n",
       "0                   None                    []              None   \n",
       "1                   None                    []              None   \n",
       "2                   None                    []              None   \n",
       "3                   None                    []              None   \n",
       "4                   None                    []              None   \n",
       "\n",
       "  author_flair_type author_fullname author_patreon_flair author_premium  ...  \\\n",
       "0              text     t2_2179ge21                False          False  ...   \n",
       "1              text     t2_921okk4t                False          False  ...   \n",
       "2              text       t2_11wj8z                False          False  ...   \n",
       "3              text     t2_5630xo64                False          False  ...   \n",
       "4              text     t2_8xykkyse                False          False  ...   \n",
       "\n",
       "  author_flair_text_color  author_flair_background_color  post_hint  preview  \\\n",
       "0                     NaN                            NaN        NaN      NaN   \n",
       "1                     NaN                            NaN        NaN      NaN   \n",
       "2                     NaN                            NaN        NaN      NaN   \n",
       "3                     NaN                            NaN        NaN      NaN   \n",
       "4                     NaN                            NaN        NaN      NaN   \n",
       "\n",
       "  edited author_cakeday is_created_from_ads_ui author_is_blocked  \\\n",
       "0    NaN            NaN                    NaN               NaN   \n",
       "1    NaN            NaN                    NaN               NaN   \n",
       "2    NaN            NaN                    NaN               NaN   \n",
       "3    NaN            NaN                    NaN               NaN   \n",
       "4    NaN            NaN                    NaN               NaN   \n",
       "\n",
       "   distinguished  banned_by  \n",
       "0            NaN        NaN  \n",
       "1            NaN        NaN  \n",
       "2            NaN        NaN  \n",
       "3            NaN        NaN  \n",
       "4            NaN        NaN  \n",
       "\n",
       "[5 rows x 72 columns]"
      ]
     },
     "execution_count": 23,
     "metadata": {},
     "output_type": "execute_result"
    }
   ],
   "source": [
    "submissions_df.head()"
   ]
  },
  {
   "cell_type": "code",
   "execution_count": 24,
   "id": "48a751a6-bfee-4213-a650-c739d9135984",
   "metadata": {},
   "outputs": [],
   "source": [
    "submissions_df.to_csv('./anx_submissions.csv', header=True, index=False, columns=list(submissions_df.axes[1]))"
   ]
  },
  {
   "cell_type": "markdown",
   "id": "4fc22976-c647-4797-8463-56bf1c60496c",
   "metadata": {},
   "source": [
    "# Comments"
   ]
  },
  {
   "cell_type": "code",
   "execution_count": 6,
   "id": "ac5a655c-7be6-4458-a6b5-05d8cad4949e",
   "metadata": {},
   "outputs": [
    {
     "name": "stderr",
     "output_type": "stream",
     "text": [
      "Not all PushShift shards are active. Query results may be incomplete.\n"
     ]
    },
    {
     "name": "stdout",
     "output_type": "stream",
     "text": [
      "Total:: Success Rate: 96.88% - Requests: 32 - Batches: 4 - Items Remaining: 0\n"
     ]
    }
   ],
   "source": [
    "comments = api.search_comments(subreddit=subreddit, limit=limit)"
   ]
  },
  {
   "cell_type": "code",
   "execution_count": 7,
   "id": "1d2ed0aa-dfb9-4be4-a57d-95bdfcccb2bd",
   "metadata": {},
   "outputs": [
    {
     "name": "stdout",
     "output_type": "stream",
     "text": [
      "Retrieved 3000 comments from Pushshift\n"
     ]
    }
   ],
   "source": [
    "print(f'Retrieved {len(comments)} comments from Pushshift')"
   ]
  },
  {
   "cell_type": "code",
   "execution_count": 12,
   "id": "278eeaf8-796b-4e77-b86a-5d0de53a1f23",
   "metadata": {},
   "outputs": [],
   "source": [
    "comments_df = pd.DataFrame(comments)"
   ]
  },
  {
   "cell_type": "code",
   "execution_count": 17,
   "id": "2024686a-31df-4b92-a4af-35d7b8be944b",
   "metadata": {},
   "outputs": [],
   "source": [
    "comments_df.to_csv('./anx_comments.csv', header=True, index=False, columns=list(comments_df.axes[1]))"
   ]
  },
  {
   "cell_type": "markdown",
   "id": "698e004d-48a3-4c74-bd7f-fbfd7466ae21",
   "metadata": {},
   "source": [
    "## Scrapping for Diabetes"
   ]
  },
  {
   "cell_type": "code",
   "execution_count": 25,
   "id": "88c8fe15-7401-464f-9f6f-eb5214bd1060",
   "metadata": {},
   "outputs": [],
   "source": [
    "subreddit=\"diabetes\"\n",
    "limit=10000"
   ]
  },
  {
   "cell_type": "code",
   "execution_count": 26,
   "id": "94bc23b9-98af-4bea-860e-14767541bf45",
   "metadata": {},
   "outputs": [
    {
     "name": "stderr",
     "output_type": "stream",
     "text": [
      "Not all PushShift shards are active. Query results may be incomplete.\n",
      "Not all PushShift shards are active. Query results may be incomplete.\n",
      "Not all PushShift shards are active. Query results may be incomplete.\n"
     ]
    },
    {
     "name": "stdout",
     "output_type": "stream",
     "text": [
      "Total:: Success Rate: 100.00% - Requests: 100 - Batches: 10 - Items Remaining: 0\n"
     ]
    }
   ],
   "source": [
    "comments_dia = api.search_comments(subreddit=subreddit, limit=limit)"
   ]
  },
  {
   "cell_type": "code",
   "execution_count": 27,
   "id": "7ff4bbe7-f8e9-4785-aeab-2c702d131915",
   "metadata": {},
   "outputs": [
    {
     "name": "stdout",
     "output_type": "stream",
     "text": [
      "Retrieved 10000 comments from Pushshift\n"
     ]
    }
   ],
   "source": [
    "print(f'Retrieved {len(comments_dia)} comments from Pushshift')"
   ]
  },
  {
   "cell_type": "code",
   "execution_count": 28,
   "id": "3483a1f4-50cf-40a2-8bfc-4a856662bc9a",
   "metadata": {},
   "outputs": [
    {
     "name": "stderr",
     "output_type": "stream",
     "text": [
      "Not all PushShift shards are active. Query results may be incomplete.\n"
     ]
    },
    {
     "name": "stdout",
     "output_type": "stream",
     "text": [
      "Total:: Success Rate: 94.55% - Requests: 110 - Batches: 11 - Items Remaining: 0\n"
     ]
    }
   ],
   "source": [
    "submissions_dia = api.search_submissions(subreddit=subreddit, limit=limit)"
   ]
  },
  {
   "cell_type": "code",
   "execution_count": 29,
   "id": "b51d99c2-40eb-4142-ab03-432a93f72664",
   "metadata": {},
   "outputs": [
    {
     "name": "stdout",
     "output_type": "stream",
     "text": [
      "Retrieved 10000 comments from Pushshift\n"
     ]
    }
   ],
   "source": [
    "print(f'Retrieved {len(submissions_dia)} comments from Pushshift')"
   ]
  },
  {
   "cell_type": "code",
   "execution_count": 30,
   "id": "821ef0d4-a6a3-477c-9012-780cca4041ee",
   "metadata": {},
   "outputs": [],
   "source": [
    "comments_dia_df = pd.DataFrame(comments_dia)\n",
    "submissions_dia_df = pd.DataFrame(submissions_dia)"
   ]
  },
  {
   "cell_type": "code",
   "execution_count": 31,
   "id": "3ee0fd09-9ac2-477a-817c-81d8e2fc7e89",
   "metadata": {},
   "outputs": [],
   "source": [
    "comments_dia_df.to_csv('./dia_comments.csv', header=True, index=False, columns=list(comments_dia_df.axes[1]))\n",
    "submissions_dia_df.to_csv('./dia_submissions.csv', header=True, index=False, columns=list(submissions_dia_df.axes[1]))"
   ]
  },
  {
   "cell_type": "code",
   "execution_count": null,
   "id": "117f916a-fc87-4c1f-98a0-1766c1d5830c",
   "metadata": {},
   "outputs": [],
   "source": []
  }
 ],
 "metadata": {
  "kernelspec": {
   "display_name": "Python [conda env:nlp]",
   "language": "python",
   "name": "conda-env-nlp-py"
  },
  "language_info": {
   "codemirror_mode": {
    "name": "ipython",
    "version": 3
   },
   "file_extension": ".py",
   "mimetype": "text/x-python",
   "name": "python",
   "nbconvert_exporter": "python",
   "pygments_lexer": "ipython3",
   "version": "3.8.11"
  }
 },
 "nbformat": 4,
 "nbformat_minor": 5
}
